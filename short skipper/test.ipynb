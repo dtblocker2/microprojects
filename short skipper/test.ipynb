{
 "cells": [
  {
   "cell_type": "code",
   "execution_count": null,
   "id": "3ab3e5ba",
   "metadata": {},
   "outputs": [],
   "source": [
    "import requests\n",
    "import pywinauto\n",
    "import json\n",
    "\n",
    "url = \"https://www.youtube.com/shorts/\"\n",
    "\n",
    "session = requests.Session()\n",
    "\n",
    "try:\n",
    "    response = session.get(url)\n",
    "except (ConnectionError, Timeout, TooManyRedirects) as e:\n",
    "    print(f\"An error occurred: {e}\")"
   ]
  },
  {
   "cell_type": "code",
   "execution_count": 13,
   "id": "f0cce9ab",
   "metadata": {},
   "outputs": [
    {
     "name": "stdout",
     "output_type": "stream",
     "text": [
      "<Response [200]>\n",
      "<class 'requests.models.Response'>\n"
     ]
    }
   ],
   "source": [
    "print(response)\n",
    "print(type(response))"
   ]
  },
  {
   "cell_type": "code",
   "execution_count": null,
   "id": "d504cacf",
   "metadata": {},
   "outputs": [],
   "source": [
    "data = response.headers\n",
    "\n",
    "for i in response:\n",
    "    print(i)\n",
    "    print(\"------------------------------------------------------------------\")"
   ]
  },
  {
   "cell_type": "markdown",
   "id": "d1748e06",
   "metadata": {},
   "source": [
    "The requests library alone cannot get elements by ID or class because it's only used for making HTTP requests, not parsing or querying HTML.\n",
    "\n",
    "To get elements by ID or class from a web page, you typically combine requests with BeautifulSoup from the bs4 package."
   ]
  },
  {
   "cell_type": "code",
   "execution_count": 17,
   "id": "a8e40168",
   "metadata": {},
   "outputs": [],
   "source": [
    "from bs4 import BeautifulSoup\n",
    "\n",
    "soup = BeautifulSoup(response.text, \"html.parser\")"
   ]
  },
  {
   "cell_type": "code",
   "execution_count": 22,
   "id": "9dae218b",
   "metadata": {},
   "outputs": [],
   "source": [
    "class_name = \"ytProgressBarPlayheadHost\"\n",
    "elements = soup.find_all(class_=\"class_name\")\n",
    "\n",
    "for element in elements:\n",
    "    style = element.get(\"style\", \"\")\n",
    "    \n",
    "    if \"width\" in style:\n",
    "        width = style.split(\"margin-left:\")[1].split(\";\")[0].strip()\n",
    "        print(\"Width:\", width)\n",
    "    else:\n",
    "        print(\"Width not found in inline style.\")"
   ]
  },
  {
   "cell_type": "code",
   "execution_count": 29,
   "id": "43c029b8",
   "metadata": {},
   "outputs": [],
   "source": [
    "from selenium import webdriver\n",
    "\n"
   ]
  }
 ],
 "metadata": {
  "kernelspec": {
   "display_name": "venv",
   "language": "python",
   "name": "python3"
  },
  "language_info": {
   "codemirror_mode": {
    "name": "ipython",
    "version": 3
   },
   "file_extension": ".py",
   "mimetype": "text/x-python",
   "name": "python",
   "nbconvert_exporter": "python",
   "pygments_lexer": "ipython3",
   "version": "3.13.3"
  }
 },
 "nbformat": 4,
 "nbformat_minor": 5
}
